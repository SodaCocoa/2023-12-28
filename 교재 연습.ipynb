{
 "cells": [
  {
   "cell_type": "code",
   "execution_count": 2,
   "metadata": {},
   "outputs": [
    {
     "name": "stdout",
     "output_type": "stream",
     "text": [
      "정렬 후: ['감자칩', '된찌', '스테이크', '치킨', '파스타', '피자']\n"
     ]
    }
   ],
   "source": [
    "#오름차순\n",
    "food=['피자', '치킨' , '스테이크','된찌','파스타','감자칩']\n",
    "food.sort()\n",
    "print('정렬 후:', food)"
   ]
  },
  {
   "cell_type": "code",
   "execution_count": 4,
   "metadata": {},
   "outputs": [
    {
     "name": "stdout",
     "output_type": "stream",
     "text": [
      "정렬 후: ['피자', '파스타', '치킨', '스테이크', '된찌', '감자칩']\n"
     ]
    }
   ],
   "source": [
    "#내림차순\n",
    "food=['피자', '치킨' , '스테이크','된찌','파스타','감자칩']\n",
    "food.sort(reverse=True)\n",
    "print('정렬 후:', food)"
   ]
  },
  {
   "cell_type": "code",
   "execution_count": 1,
   "metadata": {},
   "outputs": [
    {
     "name": "stdout",
     "output_type": "stream",
     "text": [
      "[56, 53]\n"
     ]
    }
   ],
   "source": [
    "#내림차순 정렬 후 큰수 두개 슬라이싱\n",
    "spending_6mon = [25,36,8,53,24,56]\n",
    "spending_6mon.sort(reverse=True)\n",
    "print(spending_6mon[0:2])"
   ]
  },
  {
   "cell_type": "code",
   "execution_count": 2,
   "metadata": {},
   "outputs": [
    {
     "name": "stdout",
     "output_type": "stream",
     "text": [
      "[24, 8]\n"
     ]
    }
   ],
   "source": [
    "#내림차순 정렬 후 작은수 두개 슬라이싱\n",
    "spending_6mon = [25,36,8,53,24,56]\n",
    "spending_6mon.sort(reverse=True)\n",
    "print(spending_6mon[-2:])"
   ]
  },
  {
   "cell_type": "code",
   "execution_count": 3,
   "metadata": {},
   "outputs": [
    {
     "name": "stdout",
     "output_type": "stream",
     "text": [
      "56 8\n"
     ]
    }
   ],
   "source": [
    "#최대값, 최솟값 출력\n",
    "print(max(spending_6mon), min(spending_6mon))"
   ]
  },
  {
   "cell_type": "code",
   "execution_count": 4,
   "metadata": {},
   "outputs": [
    {
     "name": "stdout",
     "output_type": "stream",
     "text": [
      "202\n"
     ]
    }
   ],
   "source": [
    "print(sum(spending_6mon))"
   ]
  },
  {
   "cell_type": "code",
   "execution_count": 6,
   "metadata": {},
   "outputs": [
    {
     "name": "stdout",
     "output_type": "stream",
     "text": [
      "4\n"
     ]
    }
   ],
   "source": [
    "#24의 인덱스 찾기\n",
    "print(spending_6mon.index(24))"
   ]
  },
  {
   "cell_type": "code",
   "execution_count": 11,
   "metadata": {},
   "outputs": [
    {
     "name": "stdout",
     "output_type": "stream",
     "text": [
      "2 * 1 = 2\n",
      "2 * 2 = 4\n",
      "2 * 3 = 6\n",
      "2 * 4 = 8\n",
      "2 * 5 = 10\n",
      "2 * 6 = 12\n",
      "2 * 7 = 14\n",
      "2 * 8 = 16\n",
      "2 * 9 = 18\n"
     ]
    }
   ],
   "source": [
    "#구구단 백준 2739\n",
    "n = int(input())\n",
    "\n",
    "for i in range(1,10):  # 1~9\n",
    "    print(n, '*', i, '=', n*i)"
   ]
  },
  {
   "cell_type": "code",
   "execution_count": 15,
   "metadata": {},
   "outputs": [
    {
     "name": "stdout",
     "output_type": "stream",
     "text": [
      "9\n",
      "9\n"
     ]
    },
    {
     "data": {
      "text/plain": [
       "<function max>"
      ]
     },
     "execution_count": 15,
     "metadata": {},
     "output_type": "execute_result"
    }
   ],
   "source": [
    "numList = []\n",
    "for i in range(9):\n",
    "    numList.append(int(input()))\n",
    "\n",
    "print(max(numList))\n",
    "print(numList.index(max(numList))+1)"
   ]
  },
  {
   "cell_type": "code",
   "execution_count": 16,
   "metadata": {},
   "outputs": [
    {
     "name": "stdout",
     "output_type": "stream",
     "text": [
      "r\n"
     ]
    }
   ],
   "source": [
    "#문자열 입력후 그자리수 추출\n",
    "s = input()\n",
    "i = int(input())\n",
    "print(s[i-1])"
   ]
  },
  {
   "cell_type": "code",
   "execution_count": 21,
   "metadata": {},
   "outputs": [
    {
     "name": "stdout",
     "output_type": "stream",
     "text": [
      "2\n",
      "5\n",
      "7\n",
      "17\n",
      "7\n"
     ]
    }
   ],
   "source": [
    "#개수 정한후 그 숫자만큼 정수 입력후 합 구하기\n",
    "t = int(input())  # 테스트 케이스 개수 t를 입력받음\n",
    "\n",
    "for _ in range(t):  # t 만큼 반복\n",
    "    a,b = map(int,input().split())\n",
    "    print(a+b)"
   ]
  },
  {
   "cell_type": "code",
   "execution_count": 27,
   "metadata": {},
   "outputs": [
    {
     "name": "stdout",
     "output_type": "stream",
     "text": [
      "2\n",
      "5\n",
      "4\n",
      "2\n",
      "4\n",
      "3\n"
     ]
    },
    {
     "ename": "ValueError",
     "evalue": "not enough values to unpack (expected 2, got 1)",
     "output_type": "error",
     "traceback": [
      "\u001b[1;31m---------------------------------------------------------------------------\u001b[0m",
      "\u001b[1;31mValueError\u001b[0m                                Traceback (most recent call last)",
      "Cell \u001b[1;32mIn[27], line 5\u001b[0m\n\u001b[0;32m      2\u001b[0m \u001b[38;5;28;01mwhile\u001b[39;00m \u001b[38;5;28;01mTrue\u001b[39;00m:\n\u001b[0;32m      3\u001b[0m     \u001b[38;5;28;01mtry\u001b[39;00m:\n\u001b[0;32m      4\u001b[0m         \u001b[38;5;66;03m# A와 B를 입력받음\u001b[39;00m\n\u001b[1;32m----> 5\u001b[0m         A, B \u001b[38;5;241m=\u001b[39m \u001b[38;5;28mmap\u001b[39m(\u001b[38;5;28mint\u001b[39m, \u001b[38;5;28minput\u001b[39m()\u001b[38;5;241m.\u001b[39msplit())\n\u001b[0;32m      7\u001b[0m         \u001b[38;5;66;03m# A와 B를 더한 결과를 출력\u001b[39;00m\n\u001b[0;32m      8\u001b[0m         \u001b[38;5;28mprint\u001b[39m(A \u001b[38;5;241m+\u001b[39m B)\n",
      "\u001b[1;31mValueError\u001b[0m: not enough values to unpack (expected 2, got 1)"
     ]
    }
   ],
   "source": [
    "# 무한 루프를 사용하여 여러 개의 테스트 케이스를 입력받음\n",
    "while True:\n",
    "    try:\n",
    "        # A와 B를 입력받음\n",
    "        A, B = map(int, input().split())\n",
    "\n",
    "        # A와 B를 더한 결과를 출력\n",
    "        print(A + B)\n",
    "\n",
    "    # 입력이 끝나면 종료\n",
    "    except EOFError:\n",
    "        break\n"
   ]
  },
  {
   "cell_type": "code",
   "execution_count": 3,
   "metadata": {},
   "outputs": [
    {
     "data": {
      "text/plain": [
       "[3, 4, 5, 6, 7, 8, 9, 10, 11]"
      ]
     },
     "execution_count": 3,
     "metadata": {},
     "output_type": "execute_result"
    }
   ],
   "source": [
    "data=[]\n",
    "for i in range(9):\n",
    "    data.append(i+3)\n",
    "data"
   ]
  },
  {
   "cell_type": "code",
   "execution_count": 15,
   "metadata": {},
   "outputs": [
    {
     "data": {
      "text/plain": [
       "[('쌈밥', '사과'),\n",
       " ('쌈밥', '아이스크림'),\n",
       " ('쌈밥', '커피'),\n",
       " ('치킨', '사과'),\n",
       " ('치킨', '아이스크림'),\n",
       " ('치킨', '커피'),\n",
       " ('피자', '사과'),\n",
       " ('피자', '아이스크림'),\n",
       " ('피자', '커피')]"
      ]
     },
     "execution_count": 15,
     "metadata": {},
     "output_type": "execute_result"
    }
   ],
   "source": [
    "food1=['쌈밥','치킨','피자']\n",
    "food2=['사과','아이스크림','커피']\n",
    "\n",
    "data=[]\n",
    "for x in food1:\n",
    "    #print('-> 메뉴는',x1)\n",
    "    for y in food2:\n",
    "        #print('후식은', x2)\n",
    "        data.append((x,y))\n",
    "data"
   ]
  },
  {
   "cell_type": "code",
   "execution_count": 16,
   "metadata": {},
   "outputs": [],
   "source": [
    "#컴프리헨션\n",
    "food1 = ['쌈밥', '치킨', '피자']\n",
    "food2 = ['사과', '아이스크림', '커피']\n",
    "\n",
    "data = [(x, y) for x in food1 for y in food2]\n"
   ]
  }
 ],
 "metadata": {
  "kernelspec": {
   "display_name": "OpenAI",
   "language": "python",
   "name": "python3"
  },
  "language_info": {
   "codemirror_mode": {
    "name": "ipython",
    "version": 3
   },
   "file_extension": ".py",
   "mimetype": "text/x-python",
   "name": "python",
   "nbconvert_exporter": "python",
   "pygments_lexer": "ipython3",
   "version": "3.12.0"
  }
 },
 "nbformat": 4,
 "nbformat_minor": 2
}
