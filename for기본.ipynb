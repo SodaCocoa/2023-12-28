{
 "cells": [
  {
   "cell_type": "markdown",
   "metadata": {},
   "source": [
    "range는 '지양' 함\n"
   ]
  },
  {
   "cell_type": "code",
   "execution_count": 20,
   "metadata": {},
   "outputs": [
    {
     "name": "stdout",
     "output_type": "stream",
     "text": [
      "9\n",
      "1\n",
      "2\n",
      "3\n",
      "4\n",
      "5\n",
      "6\n",
      "8\n",
      "9\n",
      "4\n"
     ]
    }
   ],
   "source": [
    "a=[1,2,3,4,5,6,8,9,4]\n",
    "print(len(a))\n",
    "\n",
    "for i in range(9):\n",
    "    print(a[i])"
   ]
  },
  {
   "cell_type": "code",
   "execution_count": 19,
   "metadata": {},
   "outputs": [
    {
     "name": "stdout",
     "output_type": "stream",
     "text": [
      "1\n",
      "2\n",
      "3\n",
      "4\n",
      "5\n",
      "6\n",
      "8\n",
      "9\n",
      "4\n"
     ]
    }
   ],
   "source": [
    "for i in a:\n",
    "    print(i)"
   ]
  },
  {
   "cell_type": "code",
   "execution_count": 85,
   "metadata": {},
   "outputs": [
    {
     "name": "stdout",
     "output_type": "stream",
     "text": [
      "9x7?\n",
      "8x1?\n",
      "4x6?\n",
      "4x9?\n",
      "5x1?\n",
      "2x6?\n",
      "4x2?\n",
      "2x9?\n",
      "6x4?\n",
      "2x2?\n"
     ]
    }
   ],
   "source": [
    "import random\n",
    "#print(random.random())\n",
    "#print(random.randrange(1,10))\n",
    "#print(random.randrange(1,10,2))\n",
    "for i in range(10):\n",
    "    a,b=random.randint(2,9), random.randint(1,9)\n",
    "    question=str(a) + 'x' + str(b) + '?'\n",
    "    input(question)\n",
    "    print(question)"
   ]
  },
  {
   "cell_type": "code",
   "execution_count": 91,
   "metadata": {},
   "outputs": [
    {
     "name": "stdout",
     "output_type": "stream",
     "text": [
      "38/33/24/18/45/40/"
     ]
    }
   ],
   "source": [
    "import random\n",
    "#복원추출\n",
    "for i in range(6):\n",
    "    num=random.randrange(1,46)\n",
    "    print(num,end='/')"
   ]
  },
  {
   "cell_type": "code",
   "execution_count": 177,
   "metadata": {},
   "outputs": [
    {
     "name": "stdout",
     "output_type": "stream",
     "text": [
      "['월', '화', '수', '목', '금', '토', '일']\n",
      "['차혁주', '한다연', '박승호', '정재종', '김태현', '강민성', '안기윤']\n"
     ]
    }
   ],
   "source": [
    "#enumerate는 자동으로 0,1,2,3...숫자값을 가짐(속도가 빠름)\n",
    "name = '차혁주,한다연,박승호,정재종,김태현,강민성,안기윤'\n",
    "nameList=name.split(',') #name을 ,단위로 리스트로 표현\n",
    "daylist='월,화,수,목,금,토,일'.split(',')\n",
    "print(daylist)\n",
    "print(nameList)\n",
    "\n",
    "for i in enumerate(daylist):\n"
   ]
  },
  {
   "cell_type": "code",
   "execution_count": 220,
   "metadata": {},
   "outputs": [
    {
     "name": "stdout",
     "output_type": "stream",
     "text": [
      "요일별 당번 인원 할당:\n",
      "월: 박승호\n",
      "화: 강민성\n",
      "수: 박승호\n",
      "목: 차혁주\n",
      "금: 한다연\n",
      "토: 한다연\n",
      "일: 김태현\n"
     ]
    }
   ],
   "source": [
    "import random\n",
    "\n",
    "name = '차혁주,한다연,박승호,정재종,김태현,강민성,안기윤'\n",
    "nameList = name.split(',')\n",
    "daylist = '월,화,수,목,금,토,일'.split(',')\n",
    "\n",
    "print(\"요일별 당번 인원 할당:\")\n",
    "\n",
    "# Initialize an empty dictionary to store selected members for each day\n",
    "selected_members = {}\n",
    "\n",
    "for day, _ in enumerate(daylist):\n",
    "    # available_members는 아직 선택되지 않은 인원을 나타냄\n",
    "    available_members = [member for member in nameList if member not in selected_members.get(day, [])]\n",
    "\n",
    "    if not available_members:\n",
    "        print(f\"{daylist[day]}: 더 이상 선택 가능한 인원이 없습니다.\")\n",
    "        continue\n",
    "\n",
    "    # 해당 요일에 할당된 인원을 선택\n",
    "    selected_members[day] = random.sample(available_members, 1)[0]\n",
    "\n",
    "    print(f\"{daylist[day]}: {selected_members[day]}\")\n"
   ]
  },
  {
   "cell_type": "markdown",
   "metadata": {},
   "source": [
    "비복원추출"
   ]
  },
  {
   "cell_type": "code",
   "execution_count": 215,
   "metadata": {},
   "outputs": [
    {
     "name": "stdout",
     "output_type": "stream",
     "text": [
      "월: 강민성\n",
      "화: 정재종\n",
      "수: 김태현\n",
      "목: 박승호\n",
      "금: 차혁주\n",
      "토: 안기윤\n",
      "일: 한다연\n"
     ]
    }
   ],
   "source": [
    "#랜덤요일별 당번 배정하기\n",
    "import random\n",
    "\n",
    "name = '차혁주,한다연,박승호,정재종,김태현,강민성,안기윤'\n",
    "nameList = name.split(',')\n",
    "daylist = '월,화,수,목,금,토,일'.split(',')\n",
    "\n",
    "# Shuffle the name list to randomize the order\n",
    "random.shuffle(nameList)\n",
    "\n",
    "# Create a dictionary to store the assigned names for each day\n",
    "assignments = {}\n",
    "\n",
    "# Iterate over the days\n",
    "for day in daylist:\n",
    "    # Pop a name from the shuffled list for the current day\n",
    "    assigned_name = nameList.pop()\n",
    "\n",
    "    # Store the assigned name for the current day in the dictionary\n",
    "    assignments[day] = assigned_name\n",
    "\n",
    "# Print the assignments\n",
    "for day, name in assignments.items():\n",
    "    print(f'{day}: {name}')\n"
   ]
  },
  {
   "cell_type": "code",
   "execution_count": 228,
   "metadata": {},
   "outputs": [
    {
     "name": "stdout",
     "output_type": "stream",
     "text": [
      "ㅇㅇㅇ 월\n",
      "ㅁㅁㅁㅁ 화\n",
      "ㄴㄴㄴ 수\n"
     ]
    }
   ],
   "source": [
    "# ''' ''' 는 여러줄 표현할때\n",
    "nameList='ㅇㅇㅇ,ㅁㅁㅁㅁ,ㄴㄴㄴ'.split(',')\n",
    "dayList='월/화/수'.split('/')\n",
    "#zip으로 두가지 리스트 묶기\n",
    "for name,day in zip(nameList,dayList):\n",
    "    print(name,day)"
   ]
  },
  {
   "cell_type": "code",
   "execution_count": 234,
   "metadata": {},
   "outputs": [
    {
     "data": {
      "text/plain": [
       "tuple"
      ]
     },
     "execution_count": 234,
     "metadata": {},
     "output_type": "execute_result"
    }
   ],
   "source": [
    "nameList,dayList='ㅇㅇㅇ,ㅁㅁㅁㅁ,ㄴㄴㄴ'.split(','),'월/화/수'.split('/')\n",
    "dataList=(nameList,dayList)\n",
    "type(dataList)"
   ]
  },
  {
   "cell_type": "code",
   "execution_count": 235,
   "metadata": {},
   "outputs": [
    {
     "name": "stdout",
     "output_type": "stream",
     "text": [
      "['ㅇㅇㅇ', 'ㅁㅁㅁㅁ', 'ㄴㄴㄴ']\n",
      "--------------------------------------------------\n",
      "['월', '화', '수']\n",
      "--------------------------------------------------\n"
     ]
    }
   ],
   "source": [
    "for x in dataList:\n",
    "    print(x)\n",
    "    print('-'*50)"
   ]
  },
  {
   "cell_type": "code",
   "execution_count": null,
   "metadata": {},
   "outputs": [],
   "source": [
    "#스칼라,벡터,array,텐서\n",
    "\n",
    "a=1 #스칼라 \n",
    "a=[1] #벡터(=리스트, 방향과 크기를 갖고있음)\n",
    "a=[[1,2,3],\n",
    "[2,3,4]]  # array = [리스트]\n",
    "\n",
    "a=[\n",
    "    [ [1,2,3].\n",
    "    [2,3,4] ]\n",
    "]        #텐서=[array] 두개이상의 array 집합체"
   ]
  },
  {
   "cell_type": "code",
   "execution_count": 238,
   "metadata": {},
   "outputs": [],
   "source": [
    "a=[1,2,3]\n",
    "import numpy as n\n",
    "\n",
    "\n",
    "b=n.array(a)"
   ]
  },
  {
   "cell_type": "code",
   "execution_count": 240,
   "metadata": {},
   "outputs": [
    {
     "data": {
      "text/plain": [
       "[4, 5, 6]"
      ]
     },
     "execution_count": 240,
     "metadata": {},
     "output_type": "execute_result"
    }
   ],
   "source": [
    "a=[1,2,3]\n",
    "a+[3]\n",
    "aNew=[]\n",
    "for i in a:\n",
    "    aNew.append(i+3)\n",
    "\n",
    "aNew"
   ]
  },
  {
   "cell_type": "markdown",
   "metadata": {},
   "source": [
    "numpy는 갯수가 같아야함, 숫자랑 문자가 같이들어가면 '문자화'됨"
   ]
  },
  {
   "cell_type": "code",
   "execution_count": 249,
   "metadata": {},
   "outputs": [
    {
     "data": {
      "text/plain": [
       "array([[0, 2, 3, 4],\n",
       "       [0, 4, 5, 6]])"
      ]
     },
     "execution_count": 249,
     "metadata": {},
     "output_type": "execute_result"
    }
   ],
   "source": [
    "import numpy\n",
    "a=[\n",
    "    [1,2,3,4],\n",
    "    [3,4,5,6]\n",
    "]\n",
    "\n",
    "a=numpy.array(a)\n",
    "a[:,0]=0\n",
    "a"
   ]
  },
  {
   "cell_type": "code",
   "execution_count": 243,
   "metadata": {},
   "outputs": [
    {
     "data": {
      "text/plain": [
       "array([4, 5, 6])"
      ]
     },
     "execution_count": 243,
     "metadata": {},
     "output_type": "execute_result"
    }
   ],
   "source": [
    "import numpy\n",
    "a= numpy.array(a)\n",
    "type(a), a+3\n",
    "aNew=a+3\n",
    "aNew"
   ]
  }
 ],
 "metadata": {
  "kernelspec": {
   "display_name": "OpenAI",
   "language": "python",
   "name": "python3"
  },
  "language_info": {
   "codemirror_mode": {
    "name": "ipython",
    "version": 3
   },
   "file_extension": ".py",
   "mimetype": "text/x-python",
   "name": "python",
   "nbconvert_exporter": "python",
   "pygments_lexer": "ipython3",
   "version": "3.12.0"
  }
 },
 "nbformat": 4,
 "nbformat_minor": 2
}
